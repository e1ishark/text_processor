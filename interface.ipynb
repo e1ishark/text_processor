{
 "cells": [
  {
   "cell_type": "code",
   "execution_count": 2,
   "id": "24490f9b-f9cc-48db-a7bd-8c8fdffd01f7",
   "metadata": {
    "tags": []
   },
   "outputs": [
    {
     "data": {
      "text/html": [
       "\n",
       "<style>\n",
       "    .custom-textarea .widget-label {\n",
       "        margin-bottom: 5px;\n",
       "    }\n",
       "    .custom-textarea .widget-textarea {\n",
       "        height: 300px !important;\n",
       "        resize: vertical;\n",
       "    }\n",
       "</style>\n"
      ],
      "text/plain": [
       "<IPython.core.display.HTML object>"
      ]
     },
     "metadata": {},
     "output_type": "display_data"
    },
    {
     "data": {
      "application/vnd.jupyter.widget-view+json": {
       "model_id": "22a6600406b144029d90ca1febefe818",
       "version_major": 2,
       "version_minor": 0
      },
      "text/plain": [
       "Textarea(value='', description='Введите текст в дореформенной орфографии:', layout=Layout(width='auto'), style…"
      ]
     },
     "metadata": {},
     "output_type": "display_data"
    },
    {
     "data": {
      "application/vnd.jupyter.widget-view+json": {
       "model_id": "0703c36d67094ea0b746fd0ddf42c6e3",
       "version_major": 2,
       "version_minor": 0
      },
      "text/plain": [
       "Button(description='Перевести', style=ButtonStyle())"
      ]
     },
     "metadata": {},
     "output_type": "display_data"
    },
    {
     "data": {
      "application/vnd.jupyter.widget-view+json": {
       "model_id": "e9c579f5ef214f88af2b570d388e754b",
       "version_major": 2,
       "version_minor": 0
      },
      "text/plain": [
       "Textarea(value='', description=' Перевод  текста  в  современной  орфографии :', layout=Layout(width='auto'), …"
      ]
     },
     "metadata": {},
     "output_type": "display_data"
    }
   ],
   "source": [
    "import re\n",
    "from collections import defaultdict\n",
    "from flashtext import KeywordProcessor\n",
    "from text_process import TextProcessor\n",
    "from text_mode import Mode\n",
    "import ipywidgets as widgets\n",
    "from IPython.display import display\n",
    "from IPython.display import HTML\n",
    "\n",
    "keyword_processor = KeywordProcessor(case_sensitive=True)\n",
    "keyword_processor2 = KeywordProcessor(case_sensitive=True)\n",
    "text_processor = TextProcessor()\n",
    "\n",
    "mode = Mode.NORMAL\n",
    "\n",
    "# Создаем стиль CSS для изменения размера и расположения виджета\n",
    "style = HTML(\"\"\"\n",
    "<style>\n",
    "    .custom-textarea .widget-label {\n",
    "        margin-bottom: 5px;\n",
    "    }\n",
    "    .custom-textarea .widget-textarea {\n",
    "        height: 300px !important;\n",
    "        resize: vertical;\n",
    "    }\n",
    "</style>\n",
    "\"\"\")\n",
    "\n",
    "# Добавляем стиль к текущему выводу\n",
    "display(style)\n",
    "\n",
    "# Создаем текстовое поле для ввода\n",
    "text_input = widgets.Textarea(description='Введите текст в дореформенной орфографии:', layout=widgets.Layout(width='auto'), style={'description_width': 'initial'})\n",
    "\n",
    "# # Открываем файл с текстом в дореформенной орфографии\n",
    "# with open('text_examples/old_text.txt', 'r', encoding='utf-8') as file:\n",
    "#     # Читаем текст\n",
    "#     text = file.read()\n",
    "\n",
    "\n",
    "# Создаем кнопку\n",
    "button = widgets.Button(description='Перевести')\n",
    "\n",
    "# Создаем текстовое поле для вывода\n",
    "text_output = widgets.Textarea(description=' Перевод  текста  в  современной  орфографии :', layout=widgets.Layout(width='auto'), style={'description_width': 'initial'}, rows=5)\n",
    "\n",
    "# Создаем функцию, которая будет вызываться при нажатии на кнопку  \n",
    "# disabled=True,\n",
    "def on_button_click(b):\n",
    "    text = text_input.value\n",
    "    words = text_processor.split_words(text)\n",
    "\n",
    "    key_words = text_processor.prefix_check(words)\n",
    "    keyword_processor.add_keywords_from_dict(key_words)\n",
    "\n",
    "    key_words = text_processor.noun_thirdDeclension_instrumental_check(words)\n",
    "    keyword_processor.add_keywords_from_dict(key_words)\n",
    "\n",
    "    key_words = text_processor.plural_adj_neuterOrFem_check(words)\n",
    "    keyword_processor.add_keywords_from_dict(key_words)\n",
    "\n",
    "    key_words = text_processor.noun_secondDeclension_neuter_prepositional_check(words, mode)\n",
    "    keyword_processor.add_keywords_from_dict(key_words)\n",
    "\n",
    "    key_words = text_processor.adj_pronoun_adverb_numeral_check(words)\n",
    "    keyword_processor.add_keywords_from_dict(key_words)\n",
    "\n",
    "    new_text = keyword_processor.replace_keywords(text)\n",
    "    new_text = text_processor.replace_letters(new_text)\n",
    "    \n",
    "    words2 = text_processor.split_words(new_text)\n",
    "    key_words2 = text_processor.check_and_remove_hard_sign(words2)\n",
    "    keyword_processor2.add_keywords_from_dict(key_words2)\n",
    "    \n",
    "    result_text = keyword_processor2.replace_keywords(new_text)\n",
    "    \n",
    "    text_output.value = result_text\n",
    "\n",
    "# Привязываем функцию к событию нажатия на кнопку\n",
    "button.on_click(on_button_click)\n",
    "\n",
    "# Отображаем элементы интерфейса\n",
    "display(text_input, button, text_output)\n",
    "\n",
    "\n",
    "\n",
    "# print(text)\n",
    "# print(new_text)\n",
    "\n",
    "# with open('text_examples/new_text.txt', 'w', encoding='utf-8') as file:\n",
    "#     file.write(new_text)"
   ]
  },
  {
   "cell_type": "code",
   "execution_count": null,
   "id": "5f867cda-52e3-45e4-80b6-50c9976890d1",
   "metadata": {},
   "outputs": [],
   "source": []
  }
 ],
 "metadata": {
  "kernelspec": {
   "display_name": "Python 3 (ipykernel)",
   "language": "python",
   "name": "python3"
  },
  "language_info": {
   "codemirror_mode": {
    "name": "ipython",
    "version": 3
   },
   "file_extension": ".py",
   "mimetype": "text/x-python",
   "name": "python",
   "nbconvert_exporter": "python",
   "pygments_lexer": "ipython3",
   "version": "3.11.3"
  }
 },
 "nbformat": 4,
 "nbformat_minor": 5
}
