{
 "cells": [
  {
   "cell_type": "code",
   "execution_count": 1,
   "id": "300225cf-954e-449f-862b-86e1622cb758",
   "metadata": {},
   "outputs": [
    {
     "ename": "FileNotFoundError",
     "evalue": "[Errno 2] No such file or directory: 'old_text.txt'",
     "output_type": "error",
     "traceback": [
      "\u001b[0;31m---------------------------------------------------------------------------\u001b[0m",
      "\u001b[0;31mFileNotFoundError\u001b[0m                         Traceback (most recent call last)",
      "Cell \u001b[0;32mIn[1], line 14\u001b[0m\n\u001b[1;32m      5\u001b[0m \u001b[38;5;28mdict\u001b[39m \u001b[38;5;241m=\u001b[39m {\n\u001b[1;32m      6\u001b[0m     \u001b[38;5;124m'\u001b[39m\u001b[38;5;124mѣ\u001b[39m\u001b[38;5;124m'\u001b[39m: \u001b[38;5;124m'\u001b[39m\u001b[38;5;124mе\u001b[39m\u001b[38;5;124m'\u001b[39m,\n\u001b[1;32m      7\u001b[0m     \u001b[38;5;124m'\u001b[39m\u001b[38;5;124mі\u001b[39m\u001b[38;5;124m'\u001b[39m: \u001b[38;5;124m'\u001b[39m\u001b[38;5;124mи\u001b[39m\u001b[38;5;124m'\u001b[39m,\n\u001b[0;32m   (...)\u001b[0m\n\u001b[1;32m     10\u001b[0m     \u001b[38;5;66;03m# Добавьте остальные соответствия\u001b[39;00m\n\u001b[1;32m     11\u001b[0m }\n\u001b[1;32m     13\u001b[0m \u001b[38;5;66;03m# Открываем файл с текстом в дореформенной орфографии\u001b[39;00m\n\u001b[0;32m---> 14\u001b[0m \u001b[38;5;28;01mwith\u001b[39;00m \u001b[38;5;28;43mopen\u001b[39;49m\u001b[43m(\u001b[49m\u001b[38;5;124;43m'\u001b[39;49m\u001b[38;5;124;43mold_text.txt\u001b[39;49m\u001b[38;5;124;43m'\u001b[39;49m\u001b[43m,\u001b[49m\u001b[43m \u001b[49m\u001b[38;5;124;43m'\u001b[39;49m\u001b[38;5;124;43mr\u001b[39;49m\u001b[38;5;124;43m'\u001b[39;49m\u001b[43m,\u001b[49m\u001b[43m \u001b[49m\u001b[43mencoding\u001b[49m\u001b[38;5;241;43m=\u001b[39;49m\u001b[38;5;124;43m'\u001b[39;49m\u001b[38;5;124;43mutf-8\u001b[39;49m\u001b[38;5;124;43m'\u001b[39;49m\u001b[43m)\u001b[49m \u001b[38;5;28;01mas\u001b[39;00m file:\n\u001b[1;32m     15\u001b[0m     \u001b[38;5;66;03m# Читаем текст\u001b[39;00m\n\u001b[1;32m     16\u001b[0m     text \u001b[38;5;241m=\u001b[39m file\u001b[38;5;241m.\u001b[39mread()\n\u001b[1;32m     18\u001b[0m \u001b[38;5;66;03m# Разбиваем текст на слова\u001b[39;00m\n",
      "File \u001b[0;32m/Library/Frameworks/Python.framework/Versions/3.11/lib/python3.11/site-packages/IPython/core/interactiveshell.py:284\u001b[0m, in \u001b[0;36m_modified_open\u001b[0;34m(file, *args, **kwargs)\u001b[0m\n\u001b[1;32m    277\u001b[0m \u001b[38;5;28;01mif\u001b[39;00m file \u001b[38;5;129;01min\u001b[39;00m {\u001b[38;5;241m0\u001b[39m, \u001b[38;5;241m1\u001b[39m, \u001b[38;5;241m2\u001b[39m}:\n\u001b[1;32m    278\u001b[0m     \u001b[38;5;28;01mraise\u001b[39;00m \u001b[38;5;167;01mValueError\u001b[39;00m(\n\u001b[1;32m    279\u001b[0m         \u001b[38;5;124mf\u001b[39m\u001b[38;5;124m\"\u001b[39m\u001b[38;5;124mIPython won\u001b[39m\u001b[38;5;124m'\u001b[39m\u001b[38;5;124mt let you open fd=\u001b[39m\u001b[38;5;132;01m{\u001b[39;00mfile\u001b[38;5;132;01m}\u001b[39;00m\u001b[38;5;124m by default \u001b[39m\u001b[38;5;124m\"\u001b[39m\n\u001b[1;32m    280\u001b[0m         \u001b[38;5;124m\"\u001b[39m\u001b[38;5;124mas it is likely to crash IPython. If you know what you are doing, \u001b[39m\u001b[38;5;124m\"\u001b[39m\n\u001b[1;32m    281\u001b[0m         \u001b[38;5;124m\"\u001b[39m\u001b[38;5;124myou can use builtins\u001b[39m\u001b[38;5;124m'\u001b[39m\u001b[38;5;124m open.\u001b[39m\u001b[38;5;124m\"\u001b[39m\n\u001b[1;32m    282\u001b[0m     )\n\u001b[0;32m--> 284\u001b[0m \u001b[38;5;28;01mreturn\u001b[39;00m \u001b[43mio_open\u001b[49m\u001b[43m(\u001b[49m\u001b[43mfile\u001b[49m\u001b[43m,\u001b[49m\u001b[43m \u001b[49m\u001b[38;5;241;43m*\u001b[39;49m\u001b[43margs\u001b[49m\u001b[43m,\u001b[49m\u001b[43m \u001b[49m\u001b[38;5;241;43m*\u001b[39;49m\u001b[38;5;241;43m*\u001b[39;49m\u001b[43mkwargs\u001b[49m\u001b[43m)\u001b[49m\n",
      "\u001b[0;31mFileNotFoundError\u001b[0m: [Errno 2] No such file or directory: 'old_text.txt'"
     ]
    }
   ],
   "source": [
    "import re\n",
    "import pymorphy2\n",
    "\n",
    "# Создаем словарь соответствий\n",
    "dict = {\n",
    "    'ѣ': 'е',\n",
    "    'і': 'и',\n",
    "    'ѳ': 'ф',\n",
    "    'ѵ': 'и',\n",
    "    # Добавьте остальные соответствия\n",
    "}\n",
    "\n",
    "# Открываем файл с текстом в дореформенной орфографии\n",
    "with open('old_text.txt', 'r', encoding='utf-8') as file:\n",
    "    # Читаем текст\n",
    "    text = file.read()\n",
    "\n",
    "# Разбиваем текст на слова\n",
    "words = re.findall(r'\\b\\w+\\b', text)\n",
    "\n",
    "# Заменяем слова в соответствии со словарем\n",
    "for i in range(len(words)):\n",
    "    if words[i] in dict:\n",
    "        # Производим морфологический анализ слова\n",
    "        word_parse = pymorphy2.MorphAnalyzer(parse(words[i])[0])\n",
    "        # Заменяем слово на его эквивалент в современной орфографии с учетом морфологии\n",
    "        words[i] = word_parse.normal_form.replace(word_parse.word, dict[words[i]])\n",
    "\n",
    "# Сохраняем измененный текст в новый файл\n",
    "with open('new_text.txt', 'w', encoding='utf-8') as file:\n",
    "    file.write(' '.join(words))"
   ]
  },
  {
   "cell_type": "code",
   "execution_count": 1,
   "id": "e1ceefb7-7cea-4671-a5e9-5671f0a5771c",
   "metadata": {
    "tags": []
   },
   "outputs": [
    {
     "name": "stdout",
     "output_type": "stream",
     "text": [
      "Я бы впрочемъ не пускался въ эти весьма нелюбопытныя и смутныя объясненiя и началъ бы просто-запросто безъ предисловiя: понравится, такъ и такъ прочтутъ; но бѣда въ томъ что жизнеописанiе то у меня одно, а романовъ два. Главный романъ второй, — это дѣятельность моего героя уже въ наше время, именно въ нашъ теперешнiй текущiй моментъ. Первый же романъ произошелъ еще тринадцать лѣтъ назадъ, и есть почти даже и не романъ, а лишь одинъ моментъ изъ первой юности моего героя. Обойтись мнѣ безъ этого перваго романа невозможно, потому что многое во второмъ романѣ стало бы непонятнымъ. Но такимъ образомъ еще усложняется первоначальное мое затрудненiе: если ужь я, то есть самъ бiографъ, нахожу что и одного то романа можетъ быть было бы для такого скромнаго и неопредѣленнаго героя излишне, то каково же являться съ двумя и чѣмъ объяснить такую съ моей стороны заносчивость?\n",
      "Я бы впрочем не пускался в эти весьма нелюбопытные и смутные объяснения и начал бы просто-запросто без предисловия: понравится, так и так прочтут; но беда в том что жизнеописание то у меня одно, а романов два. Главный роман второй, — это деятельность моего героя уже в наше время, именно в наш теперешний текущий момент. Первый же роман произошел еще тринадцать лет назад, и есть почти даже и не роман, а лишь один момент из первой юности моего героя. Обойтись мне без этого первого романа невозможно, потому что многое во втором романе стало бы непонятным. Но таким образом еще усложняется первоначальное мое затруднение: если уж я, то есть сам биограф, нахожу что и одного то романа может быть было бы для такого скромного и неопределенного героя излишне, то каково же являться с двумя и чем объяснить такую с моей стороны заносчивость?\n"
     ]
    }
   ],
   "source": [
    "import re\n",
    "from collections import defaultdict\n",
    "from flashtext import KeywordProcessor\n",
    "from text_process import TextProcessor\n",
    "from text_mode import Mode\n",
    "\n",
    "keyword_processor = KeywordProcessor(case_sensitive=True)\n",
    "keyword_processor2 = KeywordProcessor(case_sensitive=True)\n",
    "text_processor = TextProcessor()\n",
    "\n",
    "mode = Mode.NORMAL\n",
    "\n",
    "# Открываем файл с текстом в дореформенной орфографии\n",
    "with open('text_examples/Dostoevsky_bratya_karamazovy.txt', 'r', encoding='utf-8') as file:\n",
    "    # Читаем текст\n",
    "    text = file.read()\n",
    "\n",
    "words = text_processor.split_words(text)\n",
    "\n",
    "key_words = text_processor.prefix_check(words)\n",
    "keyword_processor.add_keywords_from_dict(key_words)\n",
    "\n",
    "key_words = text_processor.noun_thirdDeclension_instrumental_check(words)\n",
    "keyword_processor.add_keywords_from_dict(key_words)\n",
    "\n",
    "key_words = text_processor.plural_adj_neuterOrFem_check(words)\n",
    "keyword_processor.add_keywords_from_dict(key_words)\n",
    "\n",
    "key_words = text_processor.noun_secondDeclension_neuter_prepositional_check(words, mode)\n",
    "keyword_processor.add_keywords_from_dict(key_words)\n",
    "\n",
    "key_words = text_processor.adj_pronoun_adverb_numeral_check(words)\n",
    "keyword_processor.add_keywords_from_dict(key_words)\n",
    "\n",
    "new_text = keyword_processor.replace_keywords(text)\n",
    "new_text = text_processor.replace_letters(new_text)\n",
    "\n",
    "words2 = text_processor.split_words(new_text)\n",
    "key_words2 = text_processor.check_and_remove_hard_sign(words2)\n",
    "keyword_processor2.add_keywords_from_dict(key_words2)\n",
    "\n",
    "result_text = keyword_processor2.replace_keywords(new_text)\n",
    "\n",
    "\n",
    "print(text)\n",
    "print(result_text)\n",
    "\n",
    "with open('text_examples/new_text.txt', 'w', encoding='utf-8') as file:\n",
    "    file.write(new_text)"
   ]
  },
  {
   "cell_type": "code",
   "execution_count": null,
   "id": "b4316976-448e-4280-9d84-ba7d5ceefd53",
   "metadata": {},
   "outputs": [],
   "source": []
  }
 ],
 "metadata": {
  "kernelspec": {
   "display_name": "Python 3 (ipykernel)",
   "language": "python",
   "name": "python3"
  },
  "language_info": {
   "codemirror_mode": {
    "name": "ipython",
    "version": 3
   },
   "file_extension": ".py",
   "mimetype": "text/x-python",
   "name": "python",
   "nbconvert_exporter": "python",
   "pygments_lexer": "ipython3",
   "version": "3.11.3"
  }
 },
 "nbformat": 4,
 "nbformat_minor": 5
}
